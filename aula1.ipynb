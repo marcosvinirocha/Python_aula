{
 "cells": [
  {
   "cell_type": "code",
   "execution_count": 5,
   "metadata": {},
   "outputs": [
    {
     "name": "stdout",
     "output_type": "stream",
     "text": [
      "<class 'float'>\n",
      "2.5 3.5 5.0 6.25\n"
     ]
    }
   ],
   "source": [
    "y = 2.5\n",
    "print(type(y))\n",
    "# Mostra \"<class 'float'>\"\n",
    "print(y, y + 1, y * 2, y ** 2)"
   ]
  },
  {
   "cell_type": "code",
   "execution_count": 6,
   "metadata": {},
   "outputs": [
    {
     "name": "stdout",
     "output_type": "stream",
     "text": [
      "hello\n",
      "5\n",
      "hello world\n",
      "hello world 12\n",
      "hello world 12\n",
      "Hello\n",
      "HELLO\n",
      "  hello\n",
      " hello \n",
      "he(ell)(ell)o\n",
      "world\n"
     ]
    }
   ],
   "source": [
    "hello = 'hello'\n",
    "# String literais se usa aspa simples\n",
    "world = \"world\"\n",
    "# ou aspas dupla indiferentemente\n",
    "print(hello)\n",
    "# Mostra \"hello\"\n",
    "print(len(hello))\n",
    "# Identifica o tamanho da String e mostra “5”\n",
    "hw = hello + ' ' + world\n",
    "# Operador “+” concatena Strings\n",
    "print(hw)\n",
    "# Mostra \"hello world\"\n",
    "hw12 = '%s %s %d' % (hello, world, 12)\n",
    "# formata como o printf da linguagem C\n",
    "print(hw12)\n",
    "# Mostra \"hello world 12\"\n",
    "hw12 = '{} {} {}'.format(hello, world, 12)\n",
    "print(hw12)\n",
    "# Mostra \"hello world 12\"\n",
    "s = \"hello\"\n",
    "print(s.capitalize())\n",
    "# Coloca em maiúsculo o 1a letra e mostra \"Hello\"\n",
    "print(s.upper())\n",
    "# Converte para maiúsculo tudo e mostra \"HELLO\"\n",
    "print(s.rjust(7))\n",
    "# Justifica à direita e mostra \" hello\"\n",
    "print(s.center(7))\n",
    "# Centraliza e mostra \" hello \"\n",
    "print(s.replace('l', '(ell)'))\n",
    "# troca todos ‘l’ por ‘ell’ e mostra \"he(ell)(ell)o\"\n",
    "print(' world '.strip()) # Tira os espaços e mostra \"world\""
   ]
  },
  {
   "cell_type": "code",
   "execution_count": 7,
   "metadata": {},
   "outputs": [
    {
     "name": "stdout",
     "output_type": "stream",
     "text": [
      "True\n",
      "True\n",
      "True\n",
      "True\n"
     ]
    }
   ],
   "source": [
    "v1 = 3.45\n",
    "print(type(v1) is float)\n",
    "v2 = 10\n",
    "9\n",
    "print(type(v2) is int)\n",
    "v3 = True\n",
    "print(type(v3) is bool)\n",
    "v4 = 'Palavra'\n",
    "print(type(v4) is str)"
   ]
  },
  {
   "cell_type": "code",
   "execution_count": 8,
   "metadata": {},
   "outputs": [
    {
     "name": "stdout",
     "output_type": "stream",
     "text": [
      "<class 'bool'>\n",
      "False\n",
      "True\n",
      "False\n",
      "True\n"
     ]
    }
   ],
   "source": [
    "t = True\n",
    "f = False\n",
    "print(type(t))\n",
    "# Mostra \"<class 'bool'>\"\n",
    "print(t and f)\n",
    "# Trabalha o operador AND e mostra \"False\"\n",
    "print(t or f)\n",
    "# Trabalha o operador OR e mostra \"True\"\n",
    "print(not t)\n",
    "# Trabalha o operador NOT e mostra \"False\"\n",
    "print(t != f)\n",
    "# Trabalha o operador XOR (ou exclusivo) e mostra \"True\""
   ]
  },
  {
   "cell_type": "code",
   "execution_count": 9,
   "metadata": {},
   "outputs": [
    {
     "name": "stdout",
     "output_type": "stream",
     "text": [
      "Jose da Silva\n",
      "Joao Souza\n"
     ]
    }
   ],
   "source": [
    "nome = 'Jose da Silva'\n",
    "print(nome)\n",
    "n = 'Joao'\n",
    "sn = 'Souza'\n",
    "6\n",
    "nc = n + ' ' + sn\n",
    "print(nc)"
   ]
  },
  {
   "cell_type": "code",
   "execution_count": 10,
   "metadata": {},
   "outputs": [
    {
     "name": "stdout",
     "output_type": "stream",
     "text": [
      "<class 'int'>\n",
      "3\n",
      "4\n",
      "2\n",
      "6\n",
      "9\n",
      "4\n",
      "8\n",
      "<class 'float'>\n",
      "2.5 3.5 5.0 6.25\n"
     ]
    }
   ],
   "source": [
    "x = 3\n",
    "print(type(x))\n",
    "# Mostra \"<class 'int'>\"\n",
    "print(x)\n",
    "# Mostra \"3\"\n",
    "print(x + 1)\n",
    "# Adiciona e mostra \"4\"\n",
    "print(x - 1)\n",
    "# Subtrai e mostra \"2\"\n",
    "print(x * 2)\n",
    "# Multiplica e mostra \"6\"\n",
    "print(x ** 2)\n",
    "# Faz a exponenciação e mostra \"9\"\n",
    "x += 1\n",
    "print(x)\n",
    "# Mostra \"4\"\n",
    "x *= 2\n",
    "print(x)\n",
    "# Mostra \"8\"\n",
    "y = 2.5\n",
    "print(type(y))\n",
    "# Mostra \"<class 'float'>\"\n",
    "print(y, y + 1, y * 2, y ** 2)\n",
    "# Mostra \"2.5 3.5 5.0 6.25\""
   ]
  }
 ],
 "metadata": {
  "interpreter": {
   "hash": "e7370f93d1d0cde622a1f8e1c04877d8463912d04d973331ad4851f04de6915a"
  },
  "kernelspec": {
   "display_name": "Python 3.10.2 64-bit",
   "language": "python",
   "name": "python3"
  },
  "language_info": {
   "codemirror_mode": {
    "name": "ipython",
    "version": 3
   },
   "file_extension": ".py",
   "mimetype": "text/x-python",
   "name": "python",
   "nbconvert_exporter": "python",
   "pygments_lexer": "ipython3",
   "version": "3.10.2"
  },
  "orig_nbformat": 4
 },
 "nbformat": 4,
 "nbformat_minor": 2
}
