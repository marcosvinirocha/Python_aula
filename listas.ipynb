{
 "cells": [
  {
   "cell_type": "code",
   "execution_count": 10,
   "metadata": {},
   "outputs": [
    {
     "name": "stdout",
     "output_type": "stream",
     "text": [
      "[3, 1, 2, 'texto'] 2\n",
      "texto\n",
      "[3, 1, 'texto', 'texto', 'outro']\n",
      "outro [3, 1, 'texto', 'texto']\n",
      "gato\n",
      "cachorro\n",
      "macaco\n"
     ]
    }
   ],
   "source": [
    "xs = [3, 1, 2, 'texto']\n",
    "\n",
    "print(xs, xs[2])\n",
    "\n",
    "print(xs[-1])\n",
    "\n",
    "xs[2] = 'texto'\n",
    "\n",
    "xs.append('outro')\n",
    "print(xs)\n",
    "\n",
    "x = xs.pop()\n",
    "print(x, xs)\n",
    "\n",
    "animais = ['gato', 'cachorro', 'macaco']\n",
    "\n",
    "for animal in animais: print(animal)\n"
   ]
  },
  {
   "cell_type": "code",
   "execution_count": 12,
   "metadata": {},
   "outputs": [
    {
     "name": "stdout",
     "output_type": "stream",
     "text": [
      "[0, 1, 2, 3, 4]\n",
      "[3, 4, 5, 6, 7]\n",
      "[2, 5, 8]\n",
      "[0, 1, 2, 3, 4, 3, 4, 5, 6, 7]\n",
      "[2, 5, 8, 2, 5, 8, 2, 5, 8, 2, 5, 8]\n",
      "[9, 'texto', 5.7, [16, 11, 18], 'Python', [7, 8]]\n",
      "['texto', 5.7, [16, 11, 18]]\n",
      "[5.7, [16, 11, 18], 'Python', [7, 8]]\n",
      "[9, 'texto', 5.7, [16, 11, 18]]\n"
     ]
    }
   ],
   "source": [
    "l1 = list(range(5))\n",
    "print(l1)\n",
    "l2 = list(range(3,8))\n",
    "print(l2)\n",
    "l3 = list(range(2,11,3))\n",
    "print(l3)\n",
    "l4 = l1 + l2\n",
    "print(l4)\n",
    "l5 = l3 * 4\n",
    "print(l5)\n",
    "l6 = [9 , 'texto' , 5.7 , [16, 11 , 18] , \"Python\" , [7 , 8]]\n",
    "print(l6)\n",
    "l7 = l6[1:4]\n",
    "print(l7)\n",
    "l8 = l6[2:]\n",
    "print(l8)\n",
    "l9 = l6[:4]\n",
    "print(l9)"
   ]
  },
  {
   "cell_type": "code",
   "execution_count": 13,
   "metadata": {},
   "outputs": [
    {
     "name": "stdout",
     "output_type": "stream",
     "text": [
      "{'lapis': 5.5, 'borracha': 7.0, 'caneta': 6.5}\n",
      "o preco da borracha eh: 7.0\n",
      "dict_keys(['lapis', 'borracha', 'caneta'])\n",
      "dict_values([5.5, 7.0, 6.5])\n",
      "True\n",
      "False\n",
      "{'lapis': 5.5, 'caneta': 6.5}\n"
     ]
    }
   ],
   "source": [
    "Precos = {'lapis': 5.5, 'borracha': 7.0, 'caneta': 6.5}\n",
    "print(Precos)\n",
    "print(\"o preco da borracha eh:\", Precos ['borracha'])\n",
    "print(Precos.keys())\n",
    "print(Precos.values())\n",
    "print('caneta' in Precos)\n",
    "print('caderno' in Precos)\n",
    "del Precos['borracha']\n",
    "print(Precos)"
   ]
  },
  {
   "cell_type": "code",
   "execution_count": 14,
   "metadata": {},
   "outputs": [
    {
     "name": "stdout",
     "output_type": "stream",
     "text": [
      "cat\n",
      "True\n",
      "{'gato': 'cat', 'cachorro': 'dog'}\n",
      "fish\n"
     ]
    },
    {
     "ename": "KeyError",
     "evalue": "'macaco'",
     "output_type": "error",
     "traceback": [
      "\u001b[0;31m---------------------------------------------------------------------------\u001b[0m",
      "\u001b[0;31mKeyError\u001b[0m                                  Traceback (most recent call last)",
      "\u001b[1;32m/home/marcosvinicius/Projetos/Python_aula/listas.ipynb Cell 4'\u001b[0m in \u001b[0;36m<cell line: 12>\u001b[0;34m()\u001b[0m\n\u001b[1;32m     <a href='vscode-notebook-cell:/home/marcosvinicius/Projetos/Python_aula/listas.ipynb#ch0000003?line=9'>10</a>\u001b[0m \u001b[39mprint\u001b[39m(d[\u001b[39m'\u001b[39m\u001b[39mpeixe\u001b[39m\u001b[39m'\u001b[39m])\n\u001b[1;32m     <a href='vscode-notebook-cell:/home/marcosvinicius/Projetos/Python_aula/listas.ipynb#ch0000003?line=10'>11</a>\u001b[0m \u001b[39m# Mostra \"fish\"\u001b[39;00m\n\u001b[0;32m---> <a href='vscode-notebook-cell:/home/marcosvinicius/Projetos/Python_aula/listas.ipynb#ch0000003?line=11'>12</a>\u001b[0m \u001b[39mprint\u001b[39m(d[\u001b[39m'\u001b[39;49m\u001b[39mmacaco\u001b[39;49m\u001b[39m'\u001b[39;49m])\n\u001b[1;32m     <a href='vscode-notebook-cell:/home/marcosvinicius/Projetos/Python_aula/listas.ipynb#ch0000003?line=12'>13</a>\u001b[0m \u001b[39m# KeyError: 'macaco' porque não é uma chave do dicionário d\u001b[39;00m\n\u001b[1;32m     <a href='vscode-notebook-cell:/home/marcosvinicius/Projetos/Python_aula/listas.ipynb#ch0000003?line=13'>14</a>\u001b[0m \u001b[39mprint\u001b[39m(d\u001b[39m.\u001b[39mget(\u001b[39m'\u001b[39m\u001b[39mmacaco\u001b[39m\u001b[39m'\u001b[39m, \u001b[39m'\u001b[39m\u001b[39mN/A\u001b[39m\u001b[39m'\u001b[39m))\n",
      "\u001b[0;31mKeyError\u001b[0m: 'macaco'"
     ]
    }
   ],
   "source": [
    "d = {'gato': 'cat', 'cachorro': 'dog'}\n",
    "# Cria um novo dicionário com alguns dados\n",
    "print(d['gato'])\n",
    "# Identifica significado de uma entrada e mostra \"cat\"\n",
    "print('gato' in d)\n",
    "# Verifica se uma chave está e mostra \"True\"\n",
    "print(d)\n",
    "d['peixe'] = 'fish'\n",
    "# Inclui um element em um dicionário\n",
    "print(d['peixe'])\n",
    "# Mostra \"fish\"\n",
    "print(d['macaco'])\n",
    "# KeyError: 'macaco' porque não é uma chave do dicionário d\n",
    "print(d.get('macaco', 'N/A'))\n",
    "# Busca um elemento com valor default para falha, mostra \"N/A\"\n",
    "print(d.get('peixe', 'N/A'))\n",
    "# Busca um elemento com valor default para falha, mostra \"fish\"\n",
    "del d['peixe']\n",
    "# Remove um element do dicionário\n",
    "print(d.get('peixe', 'N/A'))\n",
    "# Busca um elemento com valor default para falha, mostra \"N/A\""
   ]
  },
  {
   "cell_type": "code",
   "execution_count": 16,
   "metadata": {},
   "outputs": [
    {
     "name": "stdout",
     "output_type": "stream",
     "text": [
      "True\n",
      "False\n",
      "True\n",
      "3\n",
      "3\n",
      "2\n"
     ]
    }
   ],
   "source": [
    "animais = {'gato', 'cachorro'}\n",
    "print('gato' in animais)\n",
    "# Verifica se um elemento está no set e mostra \"True\"\n",
    "print('peixe' in animais)\n",
    "# Mostra \"False\"\n",
    "animais.add('peixe')\n",
    "# Inclui um elemento no set\n",
    "print('peixe' in animais)\n",
    "# Mostra \"True\"\n",
    "print(len(animais))\n",
    "# Identifica o número de elementos do set e mostra \"3\"\n",
    "animais.add('gato')\n",
    "# Incluir um elemento que já existe não faz nada\n",
    "print(len(animais))\n",
    "# Mostra \"3\"\n",
    "animais.remove('gato')\n",
    "# Remove um elemento do set\n",
    "print(len(animais))\n",
    "# Mostra \"2"
   ]
  },
  {
   "cell_type": "code",
   "execution_count": 17,
   "metadata": {},
   "outputs": [
    {
     "name": "stdout",
     "output_type": "stream",
     "text": [
      "(1, 2, 3, 4, 5, 6)\n",
      "5\n"
     ]
    }
   ],
   "source": [
    "tp1 = (1,2,3,4,5,6)\n",
    "# Cria uma tupla\n",
    "print(tp1)\n",
    "# Mostra a tupla (1, 2, 3, 4, 5, 6)\n",
    "print(tp1[4])\n",
    "# Mostra “5”"
   ]
  },
  {
   "cell_type": "code",
   "execution_count": 18,
   "metadata": {},
   "outputs": [
    {
     "name": "stdout",
     "output_type": "stream",
     "text": [
      "{(0, 1): 0, (1, 2): 1, (2, 3): 2, (3, 4): 3, (4, 5): 4, (5, 6): 5, (6, 7): 6, (7, 8): 7, (8, 9): 8, (9, 10): 9}\n",
      "<class 'tuple'>\n",
      "5\n",
      "1\n"
     ]
    }
   ],
   "source": [
    "d = {(0, 1): 0, (1, 2): 1, (2, 3): 2, (3, 4): 3, (4, 5): 4,\n",
    "(5, 6): 5, (6, 7): 6, (7, 8): 7, (8, 9): 8, (9, 10): 9}\n",
    "# Cria dicionários com tuplas como chaves\n",
    "print(d)\n",
    "# Mostra todas as tuplas do dicionário\n",
    "tp2 = (5, 6)\n",
    "# Cria uma tupla\n",
    "print(type(tp2))\n",
    "# Mostra \"<class 'tuple'>\"\n",
    "print(d[tp2])\n",
    "# Mostra \"5\"\n",
    "print(d[(1, 2)])"
   ]
  },
  {
   "cell_type": "code",
   "execution_count": 20,
   "metadata": {},
   "outputs": [
    {
     "name": "stdout",
     "output_type": "stream",
     "text": [
      "{(0, 1): 0, (1, 2): 1, (2, 3): 2, (3, 4): 3, (4, 5): 4, (5, 6): 5, (6, 7): 6, (7, 8): 7, (8, 9): 8, (9, 10): 9}\n",
      "<class 'tuple'>\n",
      "5\n",
      "1\n"
     ]
    }
   ],
   "source": [
    "d = {(x, x + 1): x for x in range(10)}\n",
    "# Cria dicionários com tuplas como chaves\n",
    "print(d)\n",
    "# Mostra todas as tuplas do dicionário\n",
    "# {(0, 1): 0, (1, 2): 1, (2, 3): 2, (3, 4): 3, (4, 5): 4,\n",
    "# (5, 6): 5, (6, 7): 6, (7, 8): 7, (8, 9): 8, (9, 10): 9}\n",
    "tp2 = (5, 6)\n",
    "# Cria uma tupla\n",
    "print(type(tp2))\n",
    "# Mostra \"<class 'tuple'>\"\n",
    "print(d[tp2])\n",
    "# Mostra \"5\"\n",
    "print(d[(1, 2)])\n",
    "# Mostra \"1\""
   ]
  }
 ],
 "metadata": {
  "interpreter": {
   "hash": "e7370f93d1d0cde622a1f8e1c04877d8463912d04d973331ad4851f04de6915a"
  },
  "kernelspec": {
   "display_name": "Python 3.10.2 64-bit",
   "language": "python",
   "name": "python3"
  },
  "language_info": {
   "codemirror_mode": {
    "name": "ipython",
    "version": 3
   },
   "file_extension": ".py",
   "mimetype": "text/x-python",
   "name": "python",
   "nbconvert_exporter": "python",
   "pygments_lexer": "ipython3",
   "version": "3.10.2"
  },
  "orig_nbformat": 4
 },
 "nbformat": 4,
 "nbformat_minor": 2
}
