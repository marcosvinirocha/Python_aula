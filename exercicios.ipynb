{
 "cells": [
  {
   "cell_type": "code",
   "execution_count": 5,
   "metadata": {},
   "outputs": [
    {
     "name": "stdout",
     "output_type": "stream",
     "text": [
      "A quantidade: 23399415860.80238\n"
     ]
    }
   ],
   "source": [
    "m = float(input('Qual a massa a ser carregada'))\n",
    "h = float(input('Digite a altura'))\n",
    "t = float(input('Digite o tempo em segundos'))\n",
    "qtd_cavalos =  (m * h / t) / 745.6999\n",
    "\n",
    "print(\"A quantidade: {}\".format(qtd_cavalos))"
   ]
  },
  {
   "cell_type": "code",
   "execution_count": 6,
   "metadata": {},
   "outputs": [
    {
     "name": "stdout",
     "output_type": "stream",
     "text": [
      "Not Palindrome\n"
     ]
    }
   ],
   "source": [
    "word = input()\n",
    "if str(word) == \"\".join(reversed(word)) :\n",
    "    print(\"Palindrome\")\n",
    "else:\n",
    "    print(\"Not Palindrome\")\n"
   ]
  },
  {
   "cell_type": "code",
   "execution_count": 1,
   "metadata": {},
   "outputs": [
    {
     "name": "stdout",
     "output_type": "stream",
     "text": [
      "{'a': 4, 'e': 6, 'i': 3}\n",
      "adadadaeeeeeeccciii\n"
     ]
    }
   ],
   "source": [
    "#Leia uma string, construa um dicionário contendo a quantidade de cada vogal presente na string. Em\n",
    "#seguida imprima a string lida e o dicionário resultante.\n",
    "vogais = 'aeiou'\n",
    "palavra = str (input(\"Digite uma palavra: \"))\n",
    "qtd_vogais = {}\n",
    "\n",
    "for letra in palavra.lower():\n",
    "    if letra in vogais:\n",
    "        qtd_vogais[letra] = qtd_vogais.get(letra, 0) + 1\n",
    "        \n",
    "        \n",
    "print(qtd_vogais)\n",
    "print(palavra)"
   ]
  },
  {
   "cell_type": "code",
   "execution_count": 16,
   "metadata": {},
   "outputs": [
    {
     "name": "stdout",
     "output_type": "stream",
     "text": [
      "3\n"
     ]
    }
   ],
   "source": [
    "#Write a function that takes a list of elements and returns the amount of unique (distinct) elements in the list.\n",
    "lista=['1','2','3','1','2','3','1','2','3']\n",
    "\n",
    "def unique(lista):\n",
    "    lista_unica = []\n",
    "    for elemento in lista:\n",
    "        if elemento not in lista_unica:\n",
    "            lista_unica.append(elemento)\n",
    "    return len(lista_unica)\n",
    "\n",
    "\n",
    "print(unique(lista))"
   ]
  },
  {
   "cell_type": "code",
   "execution_count": 7,
   "metadata": {},
   "outputs": [
    {
     "name": "stdout",
     "output_type": "stream",
     "text": [
      "6\n"
     ]
    }
   ],
   "source": [
    "#Write a function num_elements_duplicates() that takes a list of elements and return the amount of duplicate elements in the list.\n",
    "lista=['1','2','3','1','2','3','1','2','3','4','5','6','4','5','6','4','5','6']\n",
    "def num_elements_duplicates(lista):\n",
    "    lista_unica = []\n",
    "    for elemento in lista:\n",
    "        if elemento not in lista_unica:\n",
    "            lista_unica.append(elemento)\n",
    "        else:\n",
    "            lista_unica.remove(elemento)\n",
    "    return len(lista_unica)\n",
    "\n",
    "\n",
    "print(num_elements_duplicates(lista))\n",
    "\n"
   ]
  },
  {
   "cell_type": "code",
   "execution_count": 12,
   "metadata": {},
   "outputs": [
    {
     "name": "stdout",
     "output_type": "stream",
     "text": [
      "Maior de idade\n"
     ]
    }
   ],
   "source": [
    "ano = int(input(\"Digite o idade: \"))\n",
    "anoNascimento = int(input(\"Digite o ano de nascimento: \"))\n",
    "def idade_maior(ano,anoNascimento):\n",
    "    if ano - anoNascimento >= 18:\n",
    "        return print(\"Pode Entrar\")\n",
    "    else:\n",
    "        return print(\"Não pode Entrar\")\n",
    "idade_maior(ano,anoNascimento)"
   ]
  },
  {
   "cell_type": "code",
   "execution_count": 15,
   "metadata": {},
   "outputs": [
    {
     "name": "stdout",
     "output_type": "stream",
     "text": [
      "Peso ideal\n"
     ]
    }
   ],
   "source": [
    "massa = float(input(\"Digite a massa: \"))\n",
    "altura = float(input(\"Digite a altura: \"))\n",
    "\n",
    "def imc(massa,altura):\n",
    "    imc = massa / (altura * altura)\n",
    "    if imc < 18.5:\n",
    "        return print(\"Abaixo do Peso\")\n",
    "    elif imc >= 18.5 and imc < 25:\n",
    "        return print(\"Peso ideal\")\n",
    "    elif imc >= 25 and imc < 30:\n",
    "        return print(\"Sobrepeso\")\n",
    "    elif imc >= 30 and imc < 35:\n",
    "        return print(\"Obesidade Grau I\")\n",
    "    elif imc >= 35 and imc < 40:\n",
    "        return print(\"Obesidade Grau II\")\n",
    "    elif imc >= 40:\n",
    "        return print(\"Obesidade Grau III\")\n",
    "    \n",
    "imc(massa,altura)"
   ]
  },
  {
   "cell_type": "code",
   "execution_count": 46,
   "metadata": {},
   "outputs": [
    {
     "data": {
      "text/plain": [
       "('jose', 1.5)"
      ]
     },
     "execution_count": 46,
     "metadata": {},
     "output_type": "execute_result"
    }
   ],
   "source": [
    "d={'carlos':1.70,'joao':1.80,'maria':1.60,'pedro':1.90,'jose':1.50,'maria':1.60, 'jose':1.50,'anan':1.80,'bruna':1.70,'Denise':1.90}\n",
    "\n",
    "def minAutura(d):\n",
    "    for nome,altura in d.items():\n",
    "        if altura == min(d.values()):\n",
    "            return nome,altura\n",
    "        \n",
    "            \n",
    "minAutura(d)"
   ]
  }
 ],
 "metadata": {
  "interpreter": {
   "hash": "767d51c1340bd893661ea55ea3124f6de3c7a262a8b4abca0554b478b1e2ff90"
  },
  "kernelspec": {
   "display_name": "Python 3.10.2 64-bit",
   "language": "python",
   "name": "python3"
  },
  "language_info": {
   "codemirror_mode": {
    "name": "ipython",
    "version": 3
   },
   "file_extension": ".py",
   "mimetype": "text/x-python",
   "name": "python",
   "nbconvert_exporter": "python",
   "pygments_lexer": "ipython3",
   "version": "3.10.2"
  },
  "orig_nbformat": 4
 },
 "nbformat": 4,
 "nbformat_minor": 2
}
